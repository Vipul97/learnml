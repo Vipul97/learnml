{
  "nbformat": 4,
  "nbformat_minor": 0,
  "metadata": {
    "colab": {
      "name": "log_reg.ipynb",
      "provenance": [],
      "collapsed_sections": [],
      "toc_visible": true
    },
    "kernelspec": {
      "display_name": "Python 3",
      "language": "python",
      "name": "python3"
    },
    "language_info": {
      "codemirror_mode": {
        "name": "ipython",
        "version": 3
      },
      "file_extension": ".py",
      "mimetype": "text/x-python",
      "name": "python",
      "nbconvert_exporter": "python",
      "pygments_lexer": "ipython3",
      "version": "3.7.5rc1"
    }
  },
  "cells": [
    {
      "cell_type": "markdown",
      "metadata": {
        "id": "hPSbrPbP86IL",
        "colab_type": "text"
      },
      "source": [
        "# Data"
      ]
    },
    {
      "cell_type": "code",
      "metadata": {
        "colab_type": "code",
        "id": "-0DaFrlRyRVl",
        "colab": {}
      },
      "source": [
        "import pandas as pd\n",
        "\n",
        "data = pd.read_csv('data.csv')"
      ],
      "execution_count": 0,
      "outputs": []
    },
    {
      "cell_type": "code",
      "metadata": {
        "colab_type": "code",
        "id": "BkScMvfrS0oh",
        "colab": {}
      },
      "source": [
        "X_train = data.drop(\"y\", axis=1).values[:int(0.8 * len(data))]\n",
        "y_train = data[\"y\"].values[:int(0.8 * len(data))]\n",
        "X_test = data.drop(\"y\", axis=1).values[int(0.8 * len(data)):]\n",
        "y_test = data[\"y\"].values[int(0.8 * len(data)):]"
      ],
      "execution_count": 0,
      "outputs": []
    },
    {
      "cell_type": "markdown",
      "metadata": {
        "id": "WvcnzHss86Ia",
        "colab_type": "text"
      },
      "source": [
        "# Normalize Features"
      ]
    },
    {
      "cell_type": "code",
      "metadata": {
        "colab_type": "code",
        "id": "ombhmSYn4aCy",
        "colab": {}
      },
      "source": [
        "import numpy as np\n",
        "\n",
        "def feature_normalize(X):\n",
        "        mu = np.mean(X, axis=0)\n",
        "        rang = np.ptp(X, axis=0)\n",
        "        return (X - mu) / rang\n",
        "\n",
        "X_train = feature_normalize(X_train)\n",
        "X_test = feature_normalize(X_test)"
      ],
      "execution_count": 0,
      "outputs": []
    },
    {
      "cell_type": "markdown",
      "metadata": {
        "id": "1IT2c7_O86If",
        "colab_type": "text"
      },
      "source": [
        "# Logistic Regression"
      ]
    },
    {
      "cell_type": "code",
      "metadata": {
        "colab_type": "code",
        "id": "eY7iy1_qywG_",
        "colab": {}
      },
      "source": [
        "class LogisticRegression:\n",
        "    def __init__(self, max_iter=100, eta0=0.1):\n",
        "        self.max_iter = max_iter\n",
        "        self.eta0 = eta0\n",
        "    \n",
        "    def sigmoid(self, z):\n",
        "            return 1 / (1 + np.exp(-z))\n",
        "\n",
        "    def fit(self, X, y):\n",
        "        def initialize_parameters(dim):\n",
        "            w = np.zeros((dim, 1))\n",
        "            b = 0\n",
        "        \n",
        "            return {\"w\": w, \"b\": b}\n",
        "        \n",
        "        def propagate():\n",
        "            a = self.sigmoid(np.dot(self.parameters[\"w\"].T, self.X) + self.parameters[\"b\"])\n",
        "\n",
        "            return {\"dw\": 1 / self.m * np.dot(self.X, (a - self.y).T),\n",
        "                    \"db\": 1 / self.m * np.sum(a - self.y)}, \\\n",
        "                    -1 / self.m * (np.sum(self.y * np.log(a) + (1 - self.y) * np.log(1 - a)))\n",
        "\n",
        "        def optimize():\n",
        "            costs = []\n",
        "\n",
        "            for i in range(self.max_iter):\n",
        "                grads, cost = propagate()\n",
        "\n",
        "                self.parameters[\"w\"] -= self.eta0 * grads[\"dw\"]\n",
        "                self.parameters[\"b\"] -= self.eta0 * grads[\"db\"]\n",
        "\n",
        "                costs.append(cost)\n",
        "                \n",
        "            return costs\n",
        "\n",
        "        self.X = X.T\n",
        "        self.m = self.X.shape[1]\n",
        "        self.y = y.reshape(1, self.m)\n",
        "        self.parameters = initialize_parameters(self.X.shape[0])\n",
        "        self.costs = optimize()\n",
        "\n",
        "    def predict(self, X):\n",
        "        X = X.T\n",
        "        y_pred = np.zeros((1, X.shape[1]))\n",
        "        a = self.sigmoid(np.dot(self.parameters[\"w\"].T, X) + self.parameters[\"b\"])\n",
        "\n",
        "        for i in range(a.shape[1]):\n",
        "            y_pred[0, i] = 0 if a[0, i] <= 0.5 else 1\n",
        "        \n",
        "        return y_pred"
      ],
      "execution_count": 0,
      "outputs": []
    },
    {
      "cell_type": "code",
      "metadata": {
        "colab_type": "code",
        "id": "GXg0okxazOJT",
        "colab": {}
      },
      "source": [
        "log_clf = LogisticRegression(max_iter=5000, eta0=1)\n",
        "log_clf.fit(X_train, y_train)\n",
        "y_pred = log_clf.predict(X_test)"
      ],
      "execution_count": 0,
      "outputs": []
    },
    {
      "cell_type": "code",
      "metadata": {
        "colab_type": "code",
        "id": "tOoyGhHhkMBQ",
        "outputId": "c830164b-a0f3-45dd-c511-3175fbfeb231",
        "colab": {
          "base_uri": "https://localhost:8080/",
          "height": 34
        }
      },
      "source": [
        "accuracy_score = np.mean(y_pred == y_test)\n",
        "accuracy_score"
      ],
      "execution_count": 6,
      "outputs": [
        {
          "output_type": "execute_result",
          "data": {
            "text/plain": [
              "0.7"
            ]
          },
          "metadata": {
            "tags": []
          },
          "execution_count": 6
        }
      ]
    },
    {
      "cell_type": "code",
      "metadata": {
        "colab_type": "code",
        "id": "_cg8RN03kRyk",
        "outputId": "2d9c748b-ab9b-4812-bb72-2640265541ec",
        "colab": {
          "base_uri": "https://localhost:8080/",
          "height": 295
        }
      },
      "source": [
        "import matplotlib.pyplot as plt\n",
        "\n",
        "plt.plot(log_clf.costs)\n",
        "plt.title('Gradient Descent')\n",
        "plt.xlabel('Number of iterations')\n",
        "plt.ylabel('Cost J')\n",
        "plt.show()"
      ],
      "execution_count": 7,
      "outputs": [
        {
          "output_type": "display_data",
          "data": {
            "image/png": "[encoded data removed]",
            "text/plain": [
              "<Figure size 432x288 with 1 Axes>"
            ]
          },
          "metadata": {
            "tags": []
          }
        }
      ]
    },
    {
      "cell_type": "code",
      "metadata": {
        "colab_type": "code",
        "id": "s-CkeaNylPGM",
        "colab": {}
      },
      "source": [
        ""
      ],
      "execution_count": 0,
      "outputs": []
    }
  ]
}